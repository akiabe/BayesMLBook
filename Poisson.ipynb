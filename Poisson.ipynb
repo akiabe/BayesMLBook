{
 "cells": [
  {
   "cell_type": "code",
   "execution_count": 50,
   "id": "081e05fa",
   "metadata": {},
   "outputs": [
    {
     "data": {
      "text/plain": [
       "f (generic function with 2 methods)"
      ]
     },
     "execution_count": 50,
     "metadata": {},
     "output_type": "execute_result"
    }
   ],
   "source": [
    "# Train data\n",
    "using Distributions\n",
    "N = 50\n",
    "Xᵗ = rand(Poisson(4.0), N)\n",
    "\n",
    "# Hyperparameter\n",
    "a = 1\n",
    "b = 1\n",
    "\n",
    "# Training\n",
    "â = sum(Xᵗ) + a\n",
    "b̂ = N + b\n",
    "\n",
    "# Prediction\n",
    "using SpecialFunctions\n",
    "f(a, b, x) = exp(a*loggamma(b)+loggamma(x+a)-loggamma(a)-loggamma(x+1)-(x+a)*loggamma(1+b))"
   ]
  },
  {
   "cell_type": "code",
   "execution_count": 51,
   "id": "fe9ecb6e",
   "metadata": {},
   "outputs": [
    {
     "data": {
      "text/plain": [
       "0.0"
      ]
     },
     "execution_count": 51,
     "metadata": {},
     "output_type": "execute_result"
    }
   ],
   "source": [
    "f(â, b̂, 0)"
   ]
  },
  {
   "cell_type": "code",
   "execution_count": 52,
   "id": "b24113fb",
   "metadata": {},
   "outputs": [
    {
     "data": {
      "text/plain": [
       "0.0"
      ]
     },
     "execution_count": 52,
     "metadata": {},
     "output_type": "execute_result"
    }
   ],
   "source": [
    "f(â, b̂, 1)"
   ]
  },
  {
   "cell_type": "code",
   "execution_count": 53,
   "id": "f1bbfecd",
   "metadata": {},
   "outputs": [
    {
     "data": {
      "text/plain": [
       "0.0"
      ]
     },
     "execution_count": 53,
     "metadata": {},
     "output_type": "execute_result"
    }
   ],
   "source": [
    "f(â, b̂, 2)"
   ]
  },
  {
   "cell_type": "code",
   "execution_count": 54,
   "id": "5dfe9e82",
   "metadata": {},
   "outputs": [
    {
     "data": {
      "text/plain": [
       "221"
      ]
     },
     "execution_count": 54,
     "metadata": {},
     "output_type": "execute_result"
    }
   ],
   "source": [
    "â"
   ]
  },
  {
   "cell_type": "code",
   "execution_count": 55,
   "id": "c5f17fc8",
   "metadata": {},
   "outputs": [
    {
     "data": {
      "text/plain": [
       "51"
      ]
     },
     "execution_count": 55,
     "metadata": {},
     "output_type": "execute_result"
    }
   ],
   "source": [
    "b̂"
   ]
  },
  {
   "cell_type": "code",
   "execution_count": null,
   "id": "c07f40f3",
   "metadata": {},
   "outputs": [],
   "source": []
  }
 ],
 "metadata": {
  "kernelspec": {
   "display_name": "Julia 1.5.3",
   "language": "julia",
   "name": "julia-1.5"
  },
  "language_info": {
   "file_extension": ".jl",
   "mimetype": "application/julia",
   "name": "julia",
   "version": "1.5.3"
  }
 },
 "nbformat": 4,
 "nbformat_minor": 5
}
