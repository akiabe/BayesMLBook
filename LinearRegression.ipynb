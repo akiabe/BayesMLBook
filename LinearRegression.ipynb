{
 "cells": [
  {
   "cell_type": "code",
   "execution_count": 227,
   "id": "3fed90c3",
   "metadata": {},
   "outputs": [
    {
     "data": {
      "text/plain": [
       "x_vector (generic function with 1 method)"
      ]
     },
     "execution_count": 227,
     "metadata": {},
     "output_type": "execute_result"
    }
   ],
   "source": [
    "# ベクトル作成関数\n",
    "function x_vector(xₙ, M)\n",
    "    xₙₘ = zeros(length(xₙ), M)\n",
    "    for m in 1:M\n",
    "        xₙₘ[:,m] = xₙ.^(m-1)\n",
    "    end\n",
    "    xₙₘ\n",
    "end\n",
    "\n",
    "# 確認\n",
    "#x_vector(1:5, 4)\n",
    "\n",
    "# 真の次元数\n",
    "M_truth = 4\n",
    "W_truth = rand(-1:0.1:1,4)\n",
    "\n",
    "# \n",
    "#X_line = range(-3, 3, length=200)\n",
    "\n"
   ]
  },
  {
   "cell_type": "code",
   "execution_count": 228,
   "id": "c48c6fea",
   "metadata": {},
   "outputs": [
    {
     "data": {
      "text/plain": [
       "5×4 Array{Float64,2}:\n",
       " 1.0  1.0   1.0    1.0\n",
       " 1.0  2.0   4.0    8.0\n",
       " 1.0  3.0   9.0   27.0\n",
       " 1.0  4.0  16.0   64.0\n",
       " 1.0  5.0  25.0  125.0"
      ]
     },
     "execution_count": 228,
     "metadata": {},
     "output_type": "execute_result"
    }
   ],
   "source": [
    "x_vector(1:5, 4)"
   ]
  },
  {
   "cell_type": "code",
   "execution_count": 222,
   "id": "bf36da7e",
   "metadata": {},
   "outputs": [
    {
     "data": {
      "text/plain": [
       "1:5"
      ]
     },
     "execution_count": 222,
     "metadata": {},
     "output_type": "execute_result"
    }
   ],
   "source": [
    "a = 1:5"
   ]
  },
  {
   "cell_type": "code",
   "execution_count": 224,
   "id": "b458b81f",
   "metadata": {},
   "outputs": [
    {
     "data": {
      "text/plain": [
       "5-element Array{Int64,1}:\n",
       "   1\n",
       "   8\n",
       "  27\n",
       "  64\n",
       " 125"
      ]
     },
     "execution_count": 224,
     "metadata": {},
     "output_type": "execute_result"
    }
   ],
   "source": [
    "a.^3"
   ]
  },
  {
   "cell_type": "code",
   "execution_count": 219,
   "id": "63c67302",
   "metadata": {},
   "outputs": [
    {
     "data": {
      "text/plain": [
       "4-element Array{Int64,1}:\n",
       " 1\n",
       " 2\n",
       " 3\n",
       " 4"
      ]
     },
     "execution_count": 219,
     "metadata": {},
     "output_type": "execute_result"
    }
   ],
   "source": [
    "X[:,2]"
   ]
  },
  {
   "cell_type": "code",
   "execution_count": null,
   "id": "862a1d44",
   "metadata": {},
   "outputs": [],
   "source": []
  },
  {
   "cell_type": "code",
   "execution_count": 127,
   "id": "d6774eba",
   "metadata": {},
   "outputs": [
    {
     "data": {
      "text/plain": [
       "5-element Array{Float64,1}:\n",
       " -0.7160972417715565\n",
       " -2.1708205629880046\n",
       "  3.404138051296579\n",
       " -1.4512053085875245\n",
       " -0.17239618398595777"
      ]
     },
     "execution_count": 127,
     "metadata": {},
     "output_type": "execute_result"
    }
   ],
   "source": [
    "N = 5\n",
    "X = [\n",
    "    1 1 1 1\n",
    "    1 2 4 8\n",
    "    1 3 9 27\n",
    "    1 4 16 64\n",
    "]\n",
    "\n",
    "W = rand(-1:0.1:1,4)\n",
    "\n",
    "Yₜ = X*W\n",
    "\n",
    "#using Plots\n",
    "#plot(X[:,2], Y)\n",
    "\n",
    "using Distributions\n",
    "λ = 0.4\n",
    "ϵ = rand(Normal(0,√inv(λ)),　N)\n"
   ]
  },
  {
   "cell_type": "code",
   "execution_count": 123,
   "id": "492142cb",
   "metadata": {},
   "outputs": [
    {
     "data": {
      "text/plain": [
       "5-element Array{Float64,1}:\n",
       "  0.20007028236073432\n",
       " -1.2279520800188344\n",
       "  2.356180572436881\n",
       "  4.0999661042650954\n",
       "  0.17132949529221345"
      ]
     },
     "execution_count": 123,
     "metadata": {},
     "output_type": "execute_result"
    }
   ],
   "source": [
    "ϵ"
   ]
  },
  {
   "cell_type": "code",
   "execution_count": 115,
   "id": "ba0d9a36",
   "metadata": {},
   "outputs": [
    {
     "data": {
      "text/plain": [
       "4-element Array{Float64,1}:\n",
       " -1.0\n",
       " -0.7\n",
       "  0.1\n",
       "  0.8"
      ]
     },
     "execution_count": 115,
     "metadata": {},
     "output_type": "execute_result"
    }
   ],
   "source": [
    "W"
   ]
  },
  {
   "cell_type": "code",
   "execution_count": null,
   "id": "418fc67e",
   "metadata": {},
   "outputs": [],
   "source": []
  },
  {
   "cell_type": "code",
   "execution_count": null,
   "id": "9553f768",
   "metadata": {},
   "outputs": [],
   "source": []
  }
 ],
 "metadata": {
  "kernelspec": {
   "display_name": "Julia 1.5.3",
   "language": "julia",
   "name": "julia-1.5"
  },
  "language_info": {
   "file_extension": ".jl",
   "mimetype": "application/julia",
   "name": "julia",
   "version": "1.5.3"
  }
 },
 "nbformat": 4,
 "nbformat_minor": 5
}
