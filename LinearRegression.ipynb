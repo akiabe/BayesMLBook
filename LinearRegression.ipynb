{
 "cells": [
  {
   "cell_type": "code",
   "execution_count": 11,
   "id": "2f14df86",
   "metadata": {},
   "outputs": [
    {
     "data": {
      "text/plain": [
       "5×5 Array{Float64,2}:\n",
       " 0.01  0.0   0.0   0.0   0.0\n",
       " 0.0   0.01  0.0   0.0   0.0\n",
       " 0.0   0.0   0.01  0.0   0.0\n",
       " 0.0   0.0   0.0   0.01  0.0\n",
       " 0.0   0.0   0.0   0.0   0.01"
      ]
     },
     "execution_count": 11,
     "metadata": {},
     "output_type": "execute_result"
    }
   ],
   "source": [
    "# ベクトル作成関数\n",
    "function x_vector(xₙ, M)\n",
    "    xₙₘ = zeros(length(xₙ), M)\n",
    "    for m in 1:M\n",
    "        xₙₘ[:,m] = xₙ.^(m-1)\n",
    "    end\n",
    "    xₙₘ\n",
    "end\n",
    "\n",
    "# 確認\n",
    "#x_vector(1:5, 4)\n",
    "\n",
    "# 真の次元数\n",
    "M_truth = 4\n",
    "W_truth = rand(-1:0.1:1,4)\n",
    "\n",
    "# 真の入力値\n",
    "X_line = range(-3, 3, length=200)\n",
    "X_truth = x_vector(X_line, M_truth)\n",
    "\n",
    "# 真の出力値\n",
    "Y_line = X_truth*W_truth\n",
    "\n",
    "# 観測データ数\n",
    "N = 50\n",
    "xₙ = rand(minimum(X_line):0.01:maximum(X_line),N)\n",
    "xₙₘ_truth = x_vector(xₙ, M_truth)\n",
    "\n",
    "# ノイズ成分のパラメータを設定\n",
    "using Distributions\n",
    "λ = 0.4\n",
    "ϵ = rand(Normal(0,√inv(λ)),　N)　# 平均0ガウス分布\n",
    "\n",
    "# 観測データの出力値\n",
    "yₙ = xₙₘ_truth*W_truth + ϵ\n",
    "\n",
    "# 作図\n",
    "#using Plots\n",
    "#plot(X_line, Y_line, label=\"Y_truth\")\n",
    "#scatter!(xₙ, yₙ, label=\"Y_obs\")\n",
    "\n",
    "# 超パラメータ\n",
    "using LinearAlgebra\n",
    "M = 5\n",
    "mₘ = zeros(M)\n",
    "Σₘₘ = Matrix{Float64}(I, M, M)*10\n",
    "Λₘₘ = inv(Σₘₘ^2)"
   ]
  },
  {
   "cell_type": "code",
   "execution_count": null,
   "id": "d5ef40de",
   "metadata": {},
   "outputs": [],
   "source": []
  },
  {
   "cell_type": "code",
   "execution_count": 127,
   "id": "f2fbc86c",
   "metadata": {},
   "outputs": [
    {
     "data": {
      "text/plain": [
       "5-element Array{Float64,1}:\n",
       " -0.7160972417715565\n",
       " -2.1708205629880046\n",
       "  3.404138051296579\n",
       " -1.4512053085875245\n",
       " -0.17239618398595777"
      ]
     },
     "execution_count": 127,
     "metadata": {},
     "output_type": "execute_result"
    }
   ],
   "source": [
    "N = 5\n",
    "X = [\n",
    "    1 1 1 1\n",
    "    1 2 4 8\n",
    "    1 3 9 27\n",
    "    1 4 16 64\n",
    "]\n",
    "\n",
    "W = rand(-1:0.1:1,4)\n",
    "\n",
    "Yₜ = X*W\n",
    "\n",
    "#using Plots\n",
    "#plot(X[:,2], Y)\n",
    "\n",
    "using Distributions\n",
    "λ = 0.4\n",
    "ϵ = rand(Normal(0,√inv(λ)),　N)\n"
   ]
  },
  {
   "cell_type": "code",
   "execution_count": 123,
   "id": "361306c8",
   "metadata": {},
   "outputs": [
    {
     "data": {
      "text/plain": [
       "5-element Array{Float64,1}:\n",
       "  0.20007028236073432\n",
       " -1.2279520800188344\n",
       "  2.356180572436881\n",
       "  4.0999661042650954\n",
       "  0.17132949529221345"
      ]
     },
     "execution_count": 123,
     "metadata": {},
     "output_type": "execute_result"
    }
   ],
   "source": [
    "ϵ"
   ]
  },
  {
   "cell_type": "code",
   "execution_count": 115,
   "id": "cc1cd1bb",
   "metadata": {},
   "outputs": [
    {
     "data": {
      "text/plain": [
       "4-element Array{Float64,1}:\n",
       " -1.0\n",
       " -0.7\n",
       "  0.1\n",
       "  0.8"
      ]
     },
     "execution_count": 115,
     "metadata": {},
     "output_type": "execute_result"
    }
   ],
   "source": [
    "W"
   ]
  },
  {
   "cell_type": "code",
   "execution_count": null,
   "id": "8263ab4e",
   "metadata": {},
   "outputs": [],
   "source": []
  },
  {
   "cell_type": "code",
   "execution_count": null,
   "id": "5f9deddf",
   "metadata": {},
   "outputs": [],
   "source": []
  }
 ],
 "metadata": {
  "kernelspec": {
   "display_name": "Julia 1.5.3",
   "language": "julia",
   "name": "julia-1.5"
  },
  "language_info": {
   "file_extension": ".jl",
   "mimetype": "application/julia",
   "name": "julia",
   "version": "1.5.3"
  }
 },
 "nbformat": 4,
 "nbformat_minor": 5
}
