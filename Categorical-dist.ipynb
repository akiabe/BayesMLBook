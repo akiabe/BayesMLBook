{
 "cells": [
  {
   "cell_type": "code",
   "execution_count": 16,
   "id": "27a8d7ff",
   "metadata": {},
   "outputs": [
    {
     "data": {
      "text/plain": [
       "0.4"
      ]
     },
     "execution_count": 16,
     "metadata": {},
     "output_type": "execute_result"
    }
   ],
   "source": [
    "###　「ベイズ推論による機械学習」2.2.2節 カテゴリ分布の実装\n",
    "\n",
    "## サイコロの5の出目の確率\n",
    "\n",
    "# 次元数\n",
    "K = 6\n",
    "\n",
    "# パラメータsₖ ∈ {0,1}, Σsₖ=1 for k=1,...,K\n",
    "s = [0, 0, 0, 0, 1, 0]\n",
    "\n",
    "# パラメータπₖ ∈ (0,1), Σπₖ=1 for k=1,...,K\n",
    "Π = [0.2, 0.1, 0.1, 0.1, 0.4, 0.1]\n",
    "\n",
    "# カテゴリ分布\n",
    "Cat(k, s, Π) = Π[k]^s[k]\n",
    "\n",
    "# 確率を計算\n",
    "p =　1.0\n",
    "for k in 1:K\n",
    "    p *= Cat(k, s, Π)\n",
    "end\n",
    "p"
   ]
  }
 ],
 "metadata": {
  "kernelspec": {
   "display_name": "Julia 1.5.3",
   "language": "julia",
   "name": "julia-1.5"
  },
  "language_info": {
   "file_extension": ".jl",
   "mimetype": "application/julia",
   "name": "julia",
   "version": "1.5.3"
  }
 },
 "nbformat": 4,
 "nbformat_minor": 5
}
