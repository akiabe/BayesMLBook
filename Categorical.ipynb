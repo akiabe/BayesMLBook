{
 "cells": [
  {
   "cell_type": "code",
   "execution_count": 220,
   "id": "424e6aea",
   "metadata": {},
   "outputs": [
    {
     "data": {
      "text/plain": [
       "50×3 Array{Bool,2}:\n",
       " 1  0  0\n",
       " 0  0  1\n",
       " 0  0  0\n",
       " 1  0  0\n",
       " 0  0  0\n",
       " 0  1  1\n",
       " 0  0  0\n",
       " 0  0  0\n",
       " 1  0  0\n",
       " 1  1  1\n",
       " 0  0  0\n",
       " 0  0  0\n",
       " 0  1  0\n",
       " ⋮     \n",
       " 0  1  0\n",
       " 0  0  1\n",
       " 1  0  0\n",
       " 0  0  0\n",
       " 1  0  0\n",
       " 1  0  1\n",
       " 0  1  0\n",
       " 0  0  1\n",
       " 0  0  0\n",
       " 0  1  0\n",
       " 0  0  0\n",
       " 0  1  0"
      ]
     },
     "execution_count": 220,
     "metadata": {},
     "output_type": "execute_result"
    }
   ],
   "source": [
    "# Train data\n",
    "using Distributions\n",
    "𝛑 = [0.3, 0.5, 0.2]\n",
    "Xᵗ = rand(Categorical(𝛑), 50, 3)\n",
    "\n",
    "# Hyperparameter\n",
    "α = [1, 1, 1]\n",
    "\n",
    "# Training\n",
    "α̂ = sum(Xᵗ[i,:] for i in 1:50)\n",
    "\n",
    "# Prediction\n",
    "using SpecialFunctions\n",
    "#f(x, α) = exp(loggamma(sum(α[k] for k in 1:3))\n",
    "#    +sum(loggamma(x+α[k]) for k in 1:3)\n",
    "#    -sum(loggamma(α[k]) for k in 1:3)\n",
    "#    -loggamma(sum(x+α[k] for k in 1:3)))\n"
   ]
  },
  {
   "cell_type": "code",
   "execution_count": 221,
   "id": "419436df",
   "metadata": {},
   "outputs": [
    {
     "data": {
      "image/png": "[encoded data removed]",
      "text/plain": [
       "Figure(PyObject <Figure size 640x480 with 1 Axes>)"
      ]
     },
     "metadata": {},
     "output_type": "display_data"
    },
    {
     "data": {
      "text/plain": [
       "(PyObject <matplotlib.patches.Rectangle object at 0x7fdd82edea30>, PyObject <matplotlib.patches.Rectangle object at 0x7fdd82ede8b0>, PyObject <matplotlib.patches.Rectangle object at 0x7fdd82edef10>)"
      ]
     },
     "execution_count": 221,
     "metadata": {},
     "output_type": "execute_result"
    }
   ],
   "source": [
    "using PyPlot\n",
    "bar([1,2,3], [sum(Xᵗ[:,1]),sum(Xᵗ[:,2]),sum(Xᵗ[:,3]) ])"
   ]
  },
  {
   "cell_type": "code",
   "execution_count": null,
   "id": "daf411b0",
   "metadata": {},
   "outputs": [],
   "source": []
  },
  {
   "cell_type": "code",
   "execution_count": 191,
   "id": "e98ca772",
   "metadata": {},
   "outputs": [
    {
     "data": {
      "text/plain": [
       "Inf"
      ]
     },
     "execution_count": 191,
     "metadata": {},
     "output_type": "execute_result"
    }
   ],
   "source": [
    "f(1, α̂) "
   ]
  },
  {
   "cell_type": "code",
   "execution_count": 192,
   "id": "e750e8d3",
   "metadata": {},
   "outputs": [
    {
     "data": {
      "text/plain": [
       "Inf"
      ]
     },
     "execution_count": 192,
     "metadata": {},
     "output_type": "execute_result"
    }
   ],
   "source": [
    "f(2, α̂) "
   ]
  },
  {
   "cell_type": "code",
   "execution_count": 193,
   "id": "76c210c6",
   "metadata": {},
   "outputs": [
    {
     "data": {
      "text/plain": [
       "Inf"
      ]
     },
     "execution_count": 193,
     "metadata": {},
     "output_type": "execute_result"
    }
   ],
   "source": [
    "f(2, α̂) "
   ]
  },
  {
   "cell_type": "code",
   "execution_count": null,
   "id": "10b6ca77",
   "metadata": {},
   "outputs": [],
   "source": []
  }
 ],
 "metadata": {
  "kernelspec": {
   "display_name": "Julia 1.5.3",
   "language": "julia",
   "name": "julia-1.5"
  },
  "language_info": {
   "file_extension": ".jl",
   "mimetype": "application/julia",
   "name": "julia",
   "version": "1.5.3"
  }
 },
 "nbformat": 4,
 "nbformat_minor": 5
}
