{
 "cells": [
  {
   "cell_type": "markdown",
   "id": "58a25b36",
   "metadata": {},
   "source": [
    "# 「ベイズ推論による機械学習入門」P.58 ディリクレ分布\n",
    "\n",
    "* 定義\n",
    "$$Dir(\\mathbf{\\pi}|\\mathbf{\\alpha}) = C_D(\\mathbf{\\alpha})\\prod_{k=1}^{K}\\pi_k^{\\alpha_k-1}$$\n",
    "\n",
    "* パラメータ\n",
    "$$\\mathbf{\\pi} = (\\pi_1,...,\\pi_K)^{T}$$\n",
    "$$\\sum_{k=1}^{K}\\pi_k = 1 \\quad \\pi_k \\in (0,1)$$\n",
    "$$\\mathbf{\\alpha} = (\\alpha_1,...,\\alpha_k)$$\n",
    "$$C_D(\\mathbf{\\alpha}) = \\frac{\\Gamma(\\sum_{k=1}^{K}\\alpha_k)}{\\prod_{k=1}^{K}\\Gamma(\\alpha_k)}$$\n",
    "\n",
    "* 対数表示\n",
    "$$lnDir(\\mathbf{\\pi}|\\mathbf{\\alpha}) = \\sum_{k=1}^{K}(\\alpha_k-1)ln\\pi_k + lnC_D(\\mathbf{\\alpha})$$"
   ]
  },
  {
   "cell_type": "code",
   "execution_count": null,
   "id": "f6bff030",
   "metadata": {},
   "outputs": [],
   "source": []
  }
 ],
 "metadata": {
  "kernelspec": {
   "display_name": "Julia 1.5.3",
   "language": "julia",
   "name": "julia-1.5"
  },
  "language_info": {
   "file_extension": ".jl",
   "mimetype": "application/julia",
   "name": "julia",
   "version": "1.5.3"
  }
 },
 "nbformat": 4,
 "nbformat_minor": 5
}
