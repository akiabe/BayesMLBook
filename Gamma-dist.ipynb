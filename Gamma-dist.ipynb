{
 "cells": [
  {
   "cell_type": "markdown",
   "id": "f685b7a5",
   "metadata": {},
   "source": [
    "# 「ベイズ推論による機械学習入門」P.60 ガンマ分布\n",
    "\n",
    "* 定義\n",
    "$$Gam(\\lambda|a,b) = C_G(a,b)\\lambda^{a-1}e^{-b\\lambda}$$\n",
    "$$\\lambda \\in R^+ \\quad a,b > 0$$\n",
    "$$C_G(a,b) = \\frac{b^a}{\\Gamma(a)}$$\n",
    "\n",
    "* 対数表示\n",
    "$$lnGam(\\lambda|a,b) = (a-1)ln\\lambda - b\\lambda + lnC_G(a,b)$$"
   ]
  },
  {
   "cell_type": "markdown",
   "id": "781e2dc8",
   "metadata": {},
   "source": [
    "### ガンマ分布"
   ]
  },
  {
   "cell_type": "code",
   "execution_count": 16,
   "id": "03be571e",
   "metadata": {},
   "outputs": [
    {
     "data": {
      "text/plain": [
       "Gam (generic function with 1 method)"
      ]
     },
     "execution_count": 16,
     "metadata": {},
     "output_type": "execute_result"
    }
   ],
   "source": [
    "using SpecialFunctions: gamma\n",
    "\n",
    "const Γ = gamma\n",
    "\n",
    "function Gam(λ, a, b)\n",
    "    norm = b^a / Γ(a)\n",
    "    norm * λ ^ (a - 1) * exp(-b * λ)\n",
    "end"
   ]
  },
  {
   "cell_type": "markdown",
   "id": "1057a398",
   "metadata": {},
   "source": [
    "### パラメータの設定を変えた時の確率密度のグラフ"
   ]
  },
  {
   "cell_type": "code",
   "execution_count": 17,
   "id": "dc552182",
   "metadata": {},
   "outputs": [
    {
     "ename": "LoadError",
     "evalue": "\u001b[91mMethodError: no method matching *(::Array{Float64,1}, ::Array{Float64,1})\u001b[39m\n\u001b[91m\u001b[0mClosest candidates are:\u001b[39m\n\u001b[91m\u001b[0m  *(::Any, ::Any, \u001b[91m::Any\u001b[39m, \u001b[91m::Any...\u001b[39m) at operators.jl:538\u001b[39m\n\u001b[91m\u001b[0m  *(\u001b[91m::ChainRulesCore.NotImplemented\u001b[39m, ::Any) at /Users/akifumiabe/.julia/packages/ChainRulesCore/ChM7X/src/differential_arithmetic.jl:27\u001b[39m\n\u001b[91m\u001b[0m  *(\u001b[91m::ChainRulesCore.ZeroTangent\u001b[39m, ::Any) at /Users/akifumiabe/.julia/packages/ChainRulesCore/ChM7X/src/differential_arithmetic.jl:120\u001b[39m\n\u001b[91m\u001b[0m  ...\u001b[39m",
     "output_type": "error",
     "traceback": [
      "\u001b[91mMethodError: no method matching *(::Array{Float64,1}, ::Array{Float64,1})\u001b[39m\n\u001b[91m\u001b[0mClosest candidates are:\u001b[39m\n\u001b[91m\u001b[0m  *(::Any, ::Any, \u001b[91m::Any\u001b[39m, \u001b[91m::Any...\u001b[39m) at operators.jl:538\u001b[39m\n\u001b[91m\u001b[0m  *(\u001b[91m::ChainRulesCore.NotImplemented\u001b[39m, ::Any) at /Users/akifumiabe/.julia/packages/ChainRulesCore/ChM7X/src/differential_arithmetic.jl:27\u001b[39m\n\u001b[91m\u001b[0m  *(\u001b[91m::ChainRulesCore.ZeroTangent\u001b[39m, ::Any) at /Users/akifumiabe/.julia/packages/ChainRulesCore/ChM7X/src/differential_arithmetic.jl:120\u001b[39m\n\u001b[91m\u001b[0m  ...\u001b[39m",
      "",
      "Stacktrace:",
      " [1] *(::Float64, ::Array{Float64,1}, ::Array{Float64,1}) at ./operators.jl:538",
      " [2] Gam(::StepRangeLen{Float64,Base.TwicePrecision{Float64},Base.TwicePrecision{Float64}}, ::Float64, ::Float64) at ./In[16]:7",
      " [3] top-level scope at In[17]:5",
      " [4] include_string(::Function, ::Module, ::String, ::String) at ./loading.jl:1091"
     ]
    }
   ],
   "source": [
    "# λを設定\n",
    "λ_array = range(0, 10, length=100)\n",
    "\n",
    "# パラメータの設定を変えた時の確立密度\n",
    "prob_1 = Gam(λ_array, 1.0, 1.0)\n",
    "prob_2 = Gam(λ_array, 2.0, 2.0)\n",
    "prob_3 = Gam(λ_array, 2.0, 0.5)\n",
    "\n",
    "# 作図\n",
    "using Plots\n",
    "plot(plot(λ_array, prob_1 label=\"a=1.0,b=1.0\"),\n",
    "    plot(λ_array, prob_2, label=\"a=2.0,b=2.0\"),\n",
    "    plot(λ_array, prob_3, label=\"a=2.0,b=0.5\"))"
   ]
  },
  {
   "cell_type": "code",
   "execution_count": null,
   "id": "fedb0829",
   "metadata": {},
   "outputs": [],
   "source": []
  },
  {
   "cell_type": "code",
   "execution_count": null,
   "id": "7b2527d6",
   "metadata": {},
   "outputs": [],
   "source": []
  },
  {
   "cell_type": "code",
   "execution_count": null,
   "id": "71d9385d",
   "metadata": {},
   "outputs": [],
   "source": []
  }
 ],
 "metadata": {
  "kernelspec": {
   "display_name": "Julia 1.5.3",
   "language": "julia",
   "name": "julia-1.5"
  },
  "language_info": {
   "file_extension": ".jl",
   "mimetype": "application/julia",
   "name": "julia",
   "version": "1.5.3"
  }
 },
 "nbformat": 4,
 "nbformat_minor": 5
}
