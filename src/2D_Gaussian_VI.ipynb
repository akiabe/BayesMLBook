{
 "cells": [
  {
   "cell_type": "markdown",
   "id": "e6b22661",
   "metadata": {},
   "source": [
    "# 2次元ガウス分布に対する変分推論\n",
    "\n",
    "参考：https://machine-learning.hatenablog.com/entry/2016/01/31/172500"
   ]
  },
  {
   "cell_type": "code",
   "execution_count": 23,
   "id": "b206543d",
   "metadata": {},
   "outputs": [],
   "source": [
    "using Plots\n",
    "using LinearAlgebra"
   ]
  },
  {
   "cell_type": "code",
   "execution_count": 51,
   "id": "f038489b",
   "metadata": {},
   "outputs": [
    {
     "data": {
      "text/plain": [
       "init_params (generic function with 1 method)"
      ]
     },
     "execution_count": 51,
     "metadata": {},
     "output_type": "execute_result"
    }
   ],
   "source": [
    "# パラメータの初期化\n",
    "function init_params(D)\n",
    "    μ_history = randn(D)\n",
    "    Λ_history = zeros(D, D)    \n",
    "    return μ_history, Λ_history\n",
    "end"
   ]
  },
  {
   "cell_type": "code",
   "execution_count": 52,
   "id": "bc2bd5e0",
   "metadata": {},
   "outputs": [
    {
     "data": {
      "text/plain": [
       "update_params (generic function with 1 method)"
      ]
     },
     "execution_count": 52,
     "metadata": {},
     "output_type": "execute_result"
    }
   ],
   "source": [
    "# パラメータの更新即\n",
    "function update_params(μ, Λ, μ_hisotry, Λ_hisotry)    \n",
    "    μ_history[1] = μ[1] - inv(Λ[1, 1]) * Λ[1, 2] * (μ_history[2] - μ[2])\n",
    "    Λ_history[1, 1] = Λ[1, 1]\n",
    "    μ_history[2] = μ[2] - inv(Λ[2, 2]) * Λ[2, 1] * (μ_history[1] - μ[1])\n",
    "    Λ_history[2, 2] = Λ[2, 2]\n",
    "    return μ_hisotry, Λ_hisotry\n",
    "end"
   ]
  },
  {
   "cell_type": "code",
   "execution_count": 79,
   "id": "e9ab29a6",
   "metadata": {},
   "outputs": [
    {
     "data": {
      "text/plain": [
       "calc_KL (generic function with 1 method)"
      ]
     },
     "execution_count": 79,
     "metadata": {},
     "output_type": "execute_result"
    }
   ],
   "source": [
    "# KL divergenceの計算\n",
    "function calc_KL(μ, Λ, μ̂, Λ̂)\n",
    "    D = size(μ, 1)\n",
    "    qform = tr(((μ - μ̂) * (μ - μ̂)' + inv(Λ̂)) * Λ)\n",
    "    KL = 0.5 * (qform + logdet(Λ) - logdet(Λ̂) - D)\n",
    "    return KL\n",
    "end"
   ]
  },
  {
   "cell_type": "code",
   "execution_count": 84,
   "id": "3d3fc10c",
   "metadata": {},
   "outputs": [
    {
     "data": {
      "text/plain": [
       "learn_VI (generic function with 2 methods)"
      ]
     },
     "execution_count": 84,
     "metadata": {},
     "output_type": "execute_result"
    }
   ],
   "source": [
    "# 変分推論\n",
    "function learn_VI(D, μ, Λ, maxiter)\n",
    "    μ_history, Λ_history = init_params(D)\n",
    "    result = Vector()\n",
    "    KL = Vector{Float64}()\n",
    "    for i in 1:maxiter\n",
    "        μ_hisotory, Λ_hisotory = update_params(μ, Λ, μ_hisotry, Λ_hisotry)\n",
    "        push!(result, (deepcopy(μ_history), deepcopy(inv(Λ_hisotory))))\n",
    "        push!(KL, calc_KL(μ, Λ, μ_hisotory, Λ_hisotory))\n",
    "    end\n",
    "    return result, KL\n",
    "end"
   ]
  },
  {
   "cell_type": "code",
   "execution_count": 86,
   "id": "a9f127b2",
   "metadata": {},
   "outputs": [],
   "source": [
    "# 次元数を設定\n",
    "D = 2\n",
    "\n",
    "# パラメータの初期値を設定\n",
    "μ = [\n",
    "    0.0\n",
    "    0.0\n",
    "]\n",
    "\n",
    "θ = 2.0 *　π / 12\n",
    "A = [\n",
    "    cos(θ) -sin(θ)\n",
    "    sin(θ) cos(θ)\n",
    "]\n",
    "\n",
    "Λ = inv(A * inv([1.0 0.0; 0.0 10]) * A')\n",
    "\n",
    "# 推論\n",
    "maxiter = 10\n",
    "result, KL = learn_VI(D, μ, Λ, maxiter);"
   ]
  },
  {
   "cell_type": "code",
   "execution_count": null,
   "id": "7397304d",
   "metadata": {},
   "outputs": [],
   "source": []
  }
 ],
 "metadata": {
  "kernelspec": {
   "display_name": "Julia 1.7.0",
   "language": "julia",
   "name": "julia-1.7"
  },
  "language_info": {
   "file_extension": ".jl",
   "mimetype": "application/julia",
   "name": "julia",
   "version": "1.7.0"
  }
 },
 "nbformat": 4,
 "nbformat_minor": 5
}
