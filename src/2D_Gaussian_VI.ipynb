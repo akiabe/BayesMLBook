{
 "cells": [
  {
   "cell_type": "markdown",
   "id": "71687c7b",
   "metadata": {},
   "source": [
    "# 2次元ガウス分布に対する変分推論\n",
    "\n",
    "参考：https://machine-learning.hatenablog.com/entry/2016/01/31/172500"
   ]
  },
  {
   "cell_type": "code",
   "execution_count": 1,
   "id": "8a1d6769",
   "metadata": {},
   "outputs": [],
   "source": [
    "using Plots"
   ]
  },
  {
   "cell_type": "code",
   "execution_count": null,
   "id": "415b2d44",
   "metadata": {},
   "outputs": [],
   "source": [
    "function learn_VI()\n",
    "    μ\n",
    "end"
   ]
  },
  {
   "cell_type": "code",
   "execution_count": null,
   "id": "836bf8cf",
   "metadata": {},
   "outputs": [],
   "source": [
    "function calc_KL()"
   ]
  },
  {
   "cell_type": "code",
   "execution_count": 10,
   "id": "4b3b7684",
   "metadata": {},
   "outputs": [
    {
     "data": {
      "text/plain": [
       "2×2 Matrix{Float64}:\n",
       "  3.25     -3.89711\n",
       " -3.89711   7.75"
      ]
     },
     "execution_count": 10,
     "metadata": {},
     "output_type": "execute_result"
    }
   ],
   "source": [
    "D = 2\n",
    "θ = 2.0 *　π / 12\n",
    "A = [\n",
    "    cos(θ) -sin(θ)\n",
    "    sin(θ) cos(θ)\n",
    "]\n",
    "\n",
    "μ = [\n",
    "    0.0\n",
    "    0.0\n",
    "]\n",
    "\n",
    "λ = inv(A * inv([1.0 0.0; 0.0 10]) * A')"
   ]
  },
  {
   "cell_type": "code",
   "execution_count": null,
   "id": "888a5c01",
   "metadata": {},
   "outputs": [],
   "source": []
  },
  {
   "cell_type": "code",
   "execution_count": null,
   "id": "4133e262",
   "metadata": {},
   "outputs": [],
   "source": []
  },
  {
   "cell_type": "code",
   "execution_count": null,
   "id": "7a30f942",
   "metadata": {},
   "outputs": [],
   "source": []
  }
 ],
 "metadata": {
  "kernelspec": {
   "display_name": "Julia 1.7.0",
   "language": "julia",
   "name": "julia-1.7"
  },
  "language_info": {
   "file_extension": ".jl",
   "mimetype": "application/julia",
   "name": "julia",
   "version": "1.7.0"
  }
 },
 "nbformat": 4,
 "nbformat_minor": 5
}
