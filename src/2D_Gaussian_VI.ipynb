{
 "cells": [
  {
   "cell_type": "markdown",
   "id": "3e05300f",
   "metadata": {},
   "source": [
    "# 2次元ガウス分布に対する変分推論\n",
    "\n",
    "参考：https://machine-learning.hatenablog.com/entry/2016/01/31/172500"
   ]
  },
  {
   "cell_type": "code",
   "execution_count": 1,
   "id": "29ddc1aa",
   "metadata": {},
   "outputs": [],
   "source": [
    "using Plots"
   ]
  },
  {
   "cell_type": "code",
   "execution_count": 2,
   "id": "c6a66976",
   "metadata": {},
   "outputs": [],
   "source": [
    "struct Gauss\n",
    "    μ::Vector{Float64}\n",
    "    Λ::Matrix{Float64}\n",
    "end"
   ]
  },
  {
   "cell_type": "code",
   "execution_count": 3,
   "id": "a8487f6a",
   "metadata": {},
   "outputs": [
    {
     "data": {
      "text/plain": [
       "init_params (generic function with 1 method)"
      ]
     },
     "execution_count": 3,
     "metadata": {},
     "output_type": "execute_result"
    }
   ],
   "source": [
    "function init_params(D)\n",
    "    μ = randn(D)\n",
    "    Λ = zeros(D, D)\n",
    "    return μ, Λ\n",
    "end"
   ]
  },
  {
   "cell_type": "code",
   "execution_count": null,
   "id": "7a0891b9",
   "metadata": {},
   "outputs": [],
   "source": [
    "function update_μ()\n",
    "    result = Vector()\n",
    "    \n",
    "    for i in 1:max_iter\n",
    "        \n",
    "    end\n",
    "    \n",
    "end"
   ]
  },
  {
   "cell_type": "code",
   "execution_count": null,
   "id": "c5dec07e",
   "metadata": {},
   "outputs": [],
   "source": [
    "function calc_KL()\n",
    "end"
   ]
  },
  {
   "cell_type": "code",
   "execution_count": null,
   "id": "76d6cd49",
   "metadata": {},
   "outputs": [],
   "source": [
    "function learn_VI(X, , max_iter)\n",
    "    μ_history = randn(D)\n",
    "    λ_history = zeros(D, D)\n",
    "    \n",
    "    KL = Vector{Float64}()\n",
    "    result = Vector()\n",
    "    \n",
    "    for i in 1:max_iter\n",
    "        μ_history[i] = μ[1] - inv(λ[1, 1] *)\n",
    "        \n",
    "    end\n",
    "    \n",
    "end"
   ]
  },
  {
   "cell_type": "code",
   "execution_count": 10,
   "id": "4a097ed4",
   "metadata": {},
   "outputs": [
    {
     "data": {
      "text/plain": [
       "2×2 Matrix{Float64}:\n",
       "  3.25     -3.89711\n",
       " -3.89711   7.75"
      ]
     },
     "execution_count": 10,
     "metadata": {},
     "output_type": "execute_result"
    }
   ],
   "source": [
    "D = 2\n",
    "θ = 2.0 *　π / 12\n",
    "A = [\n",
    "    cos(θ) -sin(θ)\n",
    "    sin(θ) cos(θ)\n",
    "]\n",
    "\n",
    "μ = [\n",
    "    0.0\n",
    "    0.0\n",
    "]\n",
    "\n",
    "Λ = inv(A * inv([1.0 0.0; 0.0 10]) * A')"
   ]
  },
  {
   "cell_type": "code",
   "execution_count": null,
   "id": "d4d57261",
   "metadata": {},
   "outputs": [],
   "source": []
  },
  {
   "cell_type": "code",
   "execution_count": null,
   "id": "dfc76905",
   "metadata": {},
   "outputs": [],
   "source": []
  },
  {
   "cell_type": "code",
   "execution_count": null,
   "id": "a91c73f8",
   "metadata": {},
   "outputs": [],
   "source": []
  }
 ],
 "metadata": {
  "kernelspec": {
   "display_name": "Julia 1.7.0",
   "language": "julia",
   "name": "julia-1.7"
  },
  "language_info": {
   "file_extension": ".jl",
   "mimetype": "application/julia",
   "name": "julia",
   "version": "1.7.0"
  }
 },
 "nbformat": 4,
 "nbformat_minor": 5
}
