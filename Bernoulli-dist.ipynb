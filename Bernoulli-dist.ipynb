{
 "cells": [
  {
   "cell_type": "code",
   "execution_count": 7,
   "id": "b99c2e5d",
   "metadata": {},
   "outputs": [
    {
     "name": "stdout",
     "output_type": "stream",
     "text": [
      "0.00.51082562376599061.75777966186897520.36806420716849710.00.36806420716849711.75777966186897560.51082562376599080.0"
     ]
    }
   ],
   "source": [
    "### ベイズ推論による機械学習 2.2.1節ベルヌーイ分布の実装\n",
    "\n",
    "# 2値をとる変数 x ∈ {0,1}\n",
    "x = 1\n",
    "\n",
    "# パラメータ\n",
    "μ = 0.5\n",
    "\n",
    "# ベルヌーイ分布\n",
    "Bern(x, μ) = μ^x * (1-μ)^(1-x)\n",
    "\n",
    "# μ=0.5の時にxが1である確率\n",
    "p = Bern(x, μ)\n",
    "\n",
    "## エントロピーの計算\n",
    "\n",
    "# エントロピーを定義\n",
    "H(μ) = -μ*log(μ) - (1-μ)*log(1-μ)\n",
    "\n",
    "# パラメータμに対してエントロピーを算出\n",
    "μ = 0.0:0.01:1.0\n",
    "Bern_H = zeros(length(μ))\n",
    "for n in 1:length(μ)\n",
    "    μₙ = μ[n]\n",
    "    Bern_H[n] = H(μₙ)\n",
    "end\n",
    "\n",
    "# グラフ作成\n",
    "using Plots\n",
    "plot(μ, Bern_H, xlabel=\"μ\", ylabel=\"Entropy\")\n",
    "\n",
    "## ベルヌーイ分布p(x)=Bern(x,μ)及びq(x)=Bern(x,μ̂)に対するKLダイバージェンスを計算\n",
    "\n",
    "# KLダイバージェンスを定義\n",
    "KL(μ, μ̂) = -H(μ̂) - (μ̂*log(μ) + (1-μ̂)*log(1-μ))\n",
    "\n",
    "# KLダイバージェンスを計算\n",
    "μ = [0.1, 0.5, 0.9]\n",
    "μ̂ = [0.1, 0.5, 0.9]\n",
    "for i in 1:length(μ)\n",
    "    for j in 1:length(μ̂)\n",
    "        print(KL(μ[i],μ̂[j]))\n",
    "    end\n",
    "end\n"
   ]
  }
 ],
 "metadata": {
  "kernelspec": {
   "display_name": "Julia 1.5.3",
   "language": "julia",
   "name": "julia-1.5"
  },
  "language_info": {
   "file_extension": ".jl",
   "mimetype": "application/julia",
   "name": "julia",
   "version": "1.5.3"
  }
 },
 "nbformat": 4,
 "nbformat_minor": 5
}
